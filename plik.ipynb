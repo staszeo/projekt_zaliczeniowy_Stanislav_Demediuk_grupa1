{
  "nbformat": 4,
  "nbformat_minor": 0,
  "metadata": {
    "colab": {
      "provenance": []
    },
    "kernelspec": {
      "name": "python3",
      "display_name": "Python 3"
    },
    "language_info": {
      "name": "python"
    }
  },
  "cells": [
    {
      "cell_type": "code",
      "source": [
        "import pandas as pd\n",
        "import re\n",
        "import spacy\n",
        "import matplotlib.pyplot as plt"
      ],
      "metadata": {
        "id": "lFP7-64hx2j1"
      },
      "execution_count": 2,
      "outputs": []
    },
    {
      "cell_type": "code",
      "source": [
        "df = pd.read_csv(\"dane2.csv\")"
      ],
      "metadata": {
        "id": "IUe4q0eyyGi6"
      },
      "execution_count": 83,
      "outputs": []
    },
    {
      "cell_type": "code",
      "source": [
        "df[\"created_at\"] = df[\"created_at\"].astype(str)\n",
        "dzien_pl = {\"Mon\": \"Poniedziałek\", \"Tue\": \"Wtorek\", \"Wed\": \"Środa\", \"Thu\": \"Czwartek\", \"Fri\": \"Piątek\", \"Sat\": \"Sobota\", \"Sun\": \"Niedziela\"}\n",
        "miesiac_num = {\"Jan\": \"01\", \"Feb\": \"02\", \"Mar\": \"03\", \"Apr\": \"04\", \"May\": \"05\", \"Jun\": \"06\", \"Jul\": \"07\", \"Aug\": \"08\", \"Sep\": \"09\", \"Oct\": \"10\", \"Nov\": \"11\", \"Dec\": \"12\"}\n",
        "\n",
        "for eng, pol in dzien_pl.items():\n",
        "    df[\"created_at\"] = df[\"created_at\"].str.replace(eng, pol)\n",
        "\n",
        "for eng, num in miesiac_num.items():\n",
        "    df[\"created_at\"] = df[\"created_at\"].str.replace(eng, num)"
      ],
      "metadata": {
        "id": "Xd0ac_RTyaDd"
      },
      "execution_count": 84,
      "outputs": []
    },
    {
      "cell_type": "code",
      "source": [
        "print(df[[\"created_at\"]].head())"
      ],
      "metadata": {
        "colab": {
          "base_uri": "https://localhost:8080/"
        },
        "id": "rXWq-23_yhmo",
        "outputId": "390d890d-ce2a-4247-da88-34e11163992b"
      },
      "execution_count": 5,
      "outputs": [
        {
          "output_type": "stream",
          "name": "stdout",
          "text": [
            "                           created_at\n",
            "0  Czwartek 11 25 07:05:33 +0000 2021\n",
            "1  Czwartek 11 25 07:13:03 +0000 2021\n",
            "2  Czwartek 11 25 07:09:04 +0000 2021\n",
            "3  Czwartek 11 25 06:52:05 +0000 2021\n",
            "4  Czwartek 11 25 07:06:28 +0000 2021\n"
          ]
        }
      ]
    },
    {
      "cell_type": "code",
      "source": [
        "def extract_tweet_links(column):\n",
        "    links = []\n",
        "    for entry in column.dropna():\n",
        "        tweet_links = re.findall(r'https://twitter\\.com/[^\\s]+', entry)\n",
        "        links.extend(tweet_links)\n",
        "    return links\n",
        "\n",
        "tweet_links_list = list(set(extract_tweet_links(df[\"media\"])))\n",
        "print(tweet_links_list)"
      ],
      "metadata": {
        "colab": {
          "base_uri": "https://localhost:8080/"
        },
        "id": "DYh0AN2Xzr4B",
        "outputId": "fa760fef-4b70-4d19-bec9-a8590aee16ca"
      },
      "execution_count": 6,
      "outputs": [
        {
          "output_type": "stream",
          "name": "stdout",
          "text": [
            "['https://twitter.com/NKonfederacja/status/1462387817741438983/photo/1', 'https://twitter.com/zmianynaziemi/status/1463099775646007296/photo/1', 'https://twitter.com/Pikusiaaa/status/1462456294967844865/photo/1', 'https://twitter.com/mic_marek/status/1462509695638380553/photo/1', 'https://twitter.com/KuczynskiG/status/1463417597521715209/photo/1', 'https://twitter.com/KamilHeyka/status/1462483069865238535/photo/1', 'https://twitter.com/Cyntia_Harasim/status/1462412540915429379/photo/1', 'https://twitter.com/ZaZdzislaw/status/1462025595999731718/photo/1', 'https://twitter.com/VKouprich/status/1461641655363293189/photo/1', 'https://twitter.com/HyunminPppp/status/1461433135866933251/photo/1', 'https://twitter.com/szlachciura2/status/1462785102770053124/photo/1', 'https://twitter.com/mic_marek/status/1462392307215478788/photo/1', 'https://twitter.com/DKazmierczak96/status/1462538909418549255/photo/1', 'https://twitter.com/BIPolska/status/1462752246265835524/photo/1', 'https://twitter.com/RadioLublin/status/1461294445979176961/photo/1', 'https://twitter.com/WronaM/status/1463608606662840326/photo/1', 'https://twitter.com/swiat_news/status/1462438772889501703/photo/1', 'https://twitter.com/NasPi314/status/1463422292546015239/photo/1', 'https://twitter.com/tvp_info/status/1462097832538685441/video/1', 'https://twitter.com/MMoczar/status/1462352436631379969/photo/1', 'https://twitter.com/ZbigniewBarszc1/status/1462465562479673351/photo/1', 'https://twitter.com/patka0091/status/1462429065374228483/photo/1', 'https://twitter.com/kropka_hu/status/1461636148602847237/photo/1', 'https://twitter.com/Jegorupan/status/1463528612196401158/photo/1', 'https://twitter.com/adinfo24/status/1463517882877415433/photo/1', 'https://twitter.com/bpaskal/status/1462666101385539587/photo/1', 'https://twitter.com/JanSmugaPM/status/1463189840531447819/photo/1', 'https://twitter.com/kaz_leg/status/1461606068891623428/photo/1', 'https://twitter.com/Horus543/status/1462391955145510920/photo/1', 'https://twitter.com/kitqa/status/1463212509914087438/photo/1', 'https://twitter.com/DeDuctor_PL/status/1462484539591307269/video/1', 'https://twitter.com/przegladmediow/status/1461411940983615494/video/1', 'https://twitter.com/dwolosiuk/status/1463629155996741635/photo/1', 'https://twitter.com/horyzont_z/status/1463503730272313346/photo/1', 'https://twitter.com/BIPolska/status/1462426588780191746/photo/1', 'https://twitter.com/PNisztor/status/1462418173387587585/video/1', 'https://twitter.com/andrzejb98/status/1462704796864024578/photo/1', 'https://twitter.com/Sz_Wisniewski/status/1463573880694616076/photo/1', 'https://twitter.com/I_Piotrzkowicz/status/1462419956709171202/photo/1', 'https://twitter.com/piotr_paauwe/status/1463497477739401220/video/1', 'https://twitter.com/marcin1975_33/status/1462347758728273921/photo/1', 'https://twitter.com/PL_2050/status/1462824925828460554/photo/1', 'https://twitter.com/NATOlizer/status/1463766016945704963/photo/1', 'https://twitter.com/mic_marek/status/1461642130674405377/photo/1', 'https://twitter.com/dariusrock/status/1461213832123146242/photo/1', 'https://twitter.com/CzerwoniWON/status/1462627748413906944/video/1', 'https://twitter.com/RobertSzkudlar2/status/1461404339642241025/photo/1', 'https://twitter.com/jozefmendak/status/1462379254562308100/photo/1', 'https://twitter.com/adinfo24/status/1462762909306847233/photo/1', 'https://twitter.com/mp_sadlowski/status/1461734504511545354/photo/1', 'https://twitter.com/ABoguslawski/status/1463245717640826886/photo/1', 'https://twitter.com/CAArch4/status/1462807706922897411/photo/1', 'https://twitter.com/BIPolska/status/1463021514156957701/photo/1', 'https://twitter.com/RadiowaJedynka/status/1462690941454667778/video/1', 'https://twitter.com/turwie2/status/1462668860994293772/photo/1', 'https://twitter.com/OnetWiadomosci/status/1461449399859437568/photo/1', 'https://twitter.com/franiszek/status/1462312352175513602/photo/1', 'https://twitter.com/PanoramaTvp2/status/1461758655603294210/video/1', 'https://twitter.com/Archangeli_org/status/1462516872503566338/photo/1', 'https://twitter.com/NewsweekPolska/status/1461607193908711425/photo/1', 'https://twitter.com/horyzont_z/status/1463202985836568581/photo/1', 'https://twitter.com/Wernher_vBraun/status/1463074781159432202/photo/1', 'https://twitter.com/obebeobibi/status/1461738951916597249/photo/1', 'https://twitter.com/Margher60730133/status/1461201139865690115/photo/1', 'https://twitter.com/OnetWiadomosci/status/1463094764463529987/photo/1', 'https://twitter.com/KubaBielamowicz/status/1461311727224688646/photo/1', 'https://twitter.com/AEntriopia/status/1463617168231198722/photo/1', 'https://twitter.com/RadiowaJedynka/status/1463411570998923264/video/1', 'https://twitter.com/SwiadomoscArtWi/status/1463648326272827393/photo/1', 'https://twitter.com/TechnologieWP/status/1463556992577024005/photo/1', 'https://twitter.com/KarolinaZby/status/1463166568028950535/photo/1', 'https://twitter.com/MSBS57/status/1463415217757556737/photo/1', 'https://twitter.com/slawekjanczar/status/1462485552079458304/photo/1', 'https://twitter.com/WuPio/status/1462383142564683777/photo/1', 'https://twitter.com/TOPTVPINFO/status/1462112000490704897/video/1', 'https://twitter.com/RadiowaJedynka/status/1463060342498594817/video/1', 'https://twitter.com/Dorota_2017/status/1463065425147740160/photo/1', 'https://twitter.com/szlachciura2/status/1463239174778232841/photo/1', 'https://twitter.com/AlicjaSiewiersk/status/1463588066334060546/photo/1', 'https://twitter.com/Horus543/status/1462396102431412225/photo/1', 'https://twitter.com/p_zuchowski/status/1461547541229719553/video/1', 'https://twitter.com/mic_marek/status/1462884257102274571/photo/1', 'https://twitter.com/mic_marek/status/1461692672540921858/photo/1', 'https://twitter.com/RadiowaJedynka/status/1462694752613289984/video/1', 'https://twitter.com/Radek_68/status/1462376512439660551/photo/1', 'https://twitter.com/zmianynaziemi/status/1461003968407310337/photo/1', 'https://twitter.com/wojtekdydymski/status/1462091848990797828/photo/1', 'https://twitter.com/Igor_Radecki/status/1462379686630240260/photo/1', 'https://twitter.com/MightyMichMich/status/1462238855701090304/photo/1', 'https://twitter.com/PL_2050/status/1461614975215194112/photo/1', 'https://twitter.com/OnetWiadomosci/status/1462842088362582019/photo/1', 'https://twitter.com/RadiowaJedynka/status/1461602431138205699/video/1', 'https://twitter.com/eli_barbur/status/1461718429321342977/photo/1', 'https://twitter.com/Heksagonalny/status/1461471144918368263/photo/1', 'https://twitter.com/szlachciura2/status/1461423220813357056/photo/1', 'https://twitter.com/eli_barbur/status/1462746221026680833/photo/1', 'https://twitter.com/Monia02803885/status/1463234000164728834/photo/1', 'https://twitter.com/HanterPoen/status/1461420873102069764/photo/1', 'https://twitter.com/sanctus_securit/status/1461371791973273602/photo/1', 'https://twitter.com/PogorzelskiP/status/1463585247656923138/photo/1', 'https://twitter.com/kaha_katarzyna/status/1463486810156326920/photo/1', 'https://twitter.com/MariuszGierej/status/1463747734847070210/photo/1', 'https://twitter.com/horyzont_z/status/1463506385874915336/photo/1', 'https://twitter.com/eremarker/status/1463618137455308820/video/1', 'https://twitter.com/adinfo24/status/1462677253045862400/photo/1', 'https://twitter.com/mic_marek/status/1463192272653197322/photo/1', 'https://twitter.com/Andrzej45532386/status/1462459646774546436/photo/1', 'https://twitter.com/I_Piotrzkowicz/status/1462418396264423424/photo/1', 'https://twitter.com/Sz_Wisniewski/status/1461374291740659717/photo/1', 'https://twitter.com/horyzont_z/status/1463121451675009024/photo/1', 'https://twitter.com/InvictusGamesP/status/1462446725587738627/photo/1', 'https://twitter.com/RadiowaJedynka/status/1463408514748063744/video/1', 'https://twitter.com/hal0on/status/1461783495118893061/photo/1', 'https://twitter.com/OnetWiadomosci/status/1462427345222991874/photo/1', 'https://twitter.com/LudwikowskiJan/status/1461460441406791692/photo/1', 'https://twitter.com/Jagi51625768/status/1462156764095385606/photo/1', 'https://twitter.com/horyzont_z/status/1462713735152386052/photo/1', 'https://twitter.com/LZwierzchowski/status/1462710473267236866/photo/1', 'https://twitter.com/Historia_PR/status/1461219154317516802/photo/1', 'https://twitter.com/RemigiuszBak/status/1463577940898234370/photo/1', 'https://twitter.com/tadekzd/status/1461319156175970314/video/1', 'https://twitter.com/TOPTVPINFO/status/1462485964459237376/video/1', 'https://twitter.com/horyzont_z/status/1463475429218603011/photo/1', 'https://twitter.com/TechnologieWP/status/1462409449256239113/photo/1', 'https://twitter.com/Katarzy37889486/status/1462822968564887558/photo/1', 'https://twitter.com/KONFEDERACJA_/status/1462753440485027840/photo/1', 'https://twitter.com/PiotrMatusiak/status/1462344591143837698/photo/1', 'https://twitter.com/tw_wolfgang/status/1462382428560015366/photo/1', 'https://twitter.com/OnetWiadomosci/status/1461715153947267076/photo/1', 'https://twitter.com/emilkolega/status/1461443292567060485/photo/1', 'https://twitter.com/IgorJanke/status/1462691181691916289/video/1', 'https://twitter.com/ARozbojnik/status/1463182593361428484/photo/1', 'https://twitter.com/ZaZdzislaw/status/1463207320746405898/photo/1', 'https://twitter.com/adinfo24/status/1463613421119811585/photo/1', 'https://twitter.com/BarbaraWlodarcz/status/1463161057099366412/photo/1', 'https://twitter.com/kapselski/status/1462768642274340876/photo/1', 'https://twitter.com/patka0091/status/1462865419061141513/photo/1', 'https://twitter.com/adinfo24/status/1461680686339956744/photo/1', 'https://twitter.com/KoteuszKotowski/status/1463494544146718727/photo/1', 'https://twitter.com/bancer_damian/status/1462640975621328900/photo/1', 'https://twitter.com/wrblir/status/1462009106315812864/photo/1', 'https://twitter.com/BIPolska/status/1462758035823099907/photo/1', 'https://twitter.com/ZaZdzislaw/status/1462844580882272257/photo/1', 'https://twitter.com/oko_press/status/1461309256351850499/photo/1', 'https://twitter.com/zwyklyPolak/status/1462831472004542465/photo/1', 'https://twitter.com/horyzont_z/status/1463466942925348875/photo/1', 'https://twitter.com/21schilling/status/1462460184605900805/photo/1', 'https://twitter.com/wPolscepl/status/1463454797349142530/photo/1', 'https://twitter.com/mic_marek/status/1461761730917380102/video/1', 'https://twitter.com/RussianClimates/status/1462987782553489418/photo/1', 'https://twitter.com/TJaskola/status/1461615133654978565/photo/1', 'https://twitter.com/RadioKrakow/status/1462783676425687048/photo/1', 'https://twitter.com/polityka_krakow/status/1462718268452614155/photo/1', 'https://twitter.com/myPolitics__/status/1461630700558462982/photo/1', 'https://twitter.com/WSEH_BB/status/1462343114870476800/photo/1', 'https://twitter.com/EreaAndrzej/status/1461429723377119234/photo/1', 'https://twitter.com/mic_marek/status/1462360033820393477/photo/1', 'https://twitter.com/Oltom154/status/1461546613063749632/photo/1', 'https://twitter.com/Daniel870219561/status/1461425026402590722/video/1', 'https://twitter.com/MagMirec/status/1462443538990440454/photo/1', 'https://twitter.com/frondapl/status/1462539079036276742/photo/1', 'https://twitter.com/Daniel_Zet_I/status/1462838208031510535/photo/1', 'https://twitter.com/Jan34733995/status/1461734768882683906/photo/1', 'https://twitter.com/trojmorze_pl/status/1463149920676990983/photo/1', 'https://twitter.com/mic_marek/status/1461621016392876038/photo/1', 'https://twitter.com/Adam99212507/status/1463543700492107779/photo/1', 'https://twitter.com/magaciak/status/1461055053477863429/photo/1', 'https://twitter.com/Danziger1972/status/1462510962464985092/photo/1', 'https://twitter.com/oko_press/status/1462455564110372865/photo/1', 'https://twitter.com/ZaZdzislaw/status/1463564501001850884/photo/1', 'https://twitter.com/JustynaOrzelska/status/1461286615645573122/photo/1', 'https://twitter.com/hm95775858/status/1461254501554438148/photo/1', 'https://twitter.com/Lukas_Tomks/status/1461484021129568264/photo/1', 'https://twitter.com/GrobyPawel/status/1463079746426843145/photo/1', 'https://twitter.com/PiotrKth/status/1463066624735465473/photo/1', 'https://twitter.com/RuchNarodowy/status/1461748606763819009/video/1', 'https://twitter.com/Mediaklub_pl/status/1463561096724365313/photo/1', 'https://twitter.com/RadiowaJedynka/status/1462806829059256326/photo/1', 'https://twitter.com/GZbirka/status/1462178059608637453/photo/1', 'https://twitter.com/BIPolska/status/1462825972961398792/photo/1', 'https://twitter.com/ALegucka/status/1461783475208470537/photo/1', 'https://twitter.com/KolegiumWroclaw/status/1463055457287917568/photo/1', 'https://twitter.com/adinfo24/status/1461479347479584769/photo/1', 'https://twitter.com/krolowamag/status/1463558895343968256/photo/1', 'https://twitter.com/PiotrZychowicz/status/1462817061709750275/photo/1', 'https://twitter.com/DGawr/status/1462396645417574405/photo/1', 'https://twitter.com/Kot_Behemot_NSA/status/1461199862045843456/photo/1', 'https://twitter.com/Szczery2015/status/1463044639041241096/photo/1', 'https://twitter.com/hm95775858/status/1461681974163169286/photo/1', 'https://twitter.com/OnetWiadomosci/status/1462864222686121984/photo/1', 'https://twitter.com/TOPTVPINFO/status/1462713715233488900/video/1', 'https://twitter.com/Bartekzeswiata/status/1461228462245650439/photo/1', 'https://twitter.com/Legionista2016/status/1446833091423744001/photo/1', 'https://twitter.com/Jan34733995/status/1461737536628346884/photo/1', 'https://twitter.com/tremtlert/status/1462840265631322114/photo/1', 'https://twitter.com/FaktyTVN/status/1462846839812726788/photo/1', 'https://twitter.com/przeszpieg/status/1463528690143436807/photo/1', 'https://twitter.com/TechnologieWP/status/1461714873663033344/photo/1', 'https://twitter.com/pawel_gry/status/1461420643287711761/photo/1', 'https://twitter.com/HanterPoen/status/1463677245143322626/photo/1', 'https://twitter.com/horyzont_z/status/1462825103314632706/photo/1', 'https://twitter.com/mic_marek/status/1463142790750167040/photo/1', 'https://twitter.com/OnetWiadomosci/status/1463081655258681344/photo/1', 'https://twitter.com/LukasKobierski/status/1461285597419614208/photo/1', 'https://twitter.com/Jan34733995/status/1463525317755211778/photo/1', 'https://twitter.com/tvp_info/status/1462676481826603012/video/1', 'https://twitter.com/GrazynaJarco/status/1463089662860435464/photo/1', 'https://twitter.com/Wakonrad/status/1462847453825282056/photo/1', 'https://twitter.com/PL_2050/status/1462824699797426179/photo/1', 'https://twitter.com/FamillyNordic/status/1463574002568417290/photo/1', 'https://twitter.com/TechnologieWP/status/1462681220903542786/photo/1', 'https://twitter.com/tvp_info/status/1462479291057328131/video/1', 'https://twitter.com/Edycja274/status/1463645880968429569/photo/1', 'https://twitter.com/Szymon72897575/status/1463542286554386440/photo/1', 'https://twitter.com/piotr_paauwe/status/1462136090861707265/video/1', 'https://twitter.com/donkiszot1/status/1463050925489143808/photo/1', 'https://twitter.com/ZaZdzislaw/status/1462484194106429448/photo/1', 'https://twitter.com/mic_marek/status/1463181184280707085/photo/1', 'https://twitter.com/StefanTompson/status/1462962002113015811/photo/1', 'https://twitter.com/Jagi51625768/status/1462121740914548741/photo/1', 'https://twitter.com/RadiowaTrojka/status/1461611148734836740/video/1', 'https://twitter.com/dwolosiuk/status/1461257928829243398/photo/1', 'https://twitter.com/JKowalski_posel/status/1462465884694454281/video/1', 'https://twitter.com/PortalMorski/status/1463217319413432324/photo/1', 'https://twitter.com/DanielNalepka/status/1462432062510702594/photo/1', 'https://twitter.com/WiesCiesielski/status/1462734119625015299/photo/1', 'https://twitter.com/Horus543/status/1461701625731506182/video/1', 'https://twitter.com/mic_marek/status/1463055469296168964/photo/1', 'https://twitter.com/BIPolska/status/1463045412319686657/photo/1', 'https://twitter.com/Atharen_wow/status/1461785661657260032/photo/1', 'https://twitter.com/hanna_lisowa/status/1463199466740240385/photo/1', 'https://twitter.com/BIPolska/status/1462849881651892226/photo/1', 'https://twitter.com/ALegucka/status/1461355188724244485/photo/1', 'https://twitter.com/fideista/status/1463211558050353165/photo/1', 'https://twitter.com/Arabezka/status/1463588189134798855/photo/1', 'https://twitter.com/wwwwarszawapl/status/1462659430760304643/photo/1', 'https://twitter.com/Wakonrad/status/1461751158490423308/photo/1', 'https://twitter.com/trojmorze_pl/status/1461722642055106565/photo/1', 'https://twitter.com/Archangeli_org/status/1461227758978220034/photo/1', 'https://twitter.com/Chess24Pl/status/1462395557641601029/photo/1', 'https://twitter.com/dwolosiuk/status/1461368383056728067/photo/1', 'https://twitter.com/bprzymusinski/status/1463553829316796429/photo/1', 'https://twitter.com/MaxymilianLv/status/1462438576927432711/photo/1', 'https://twitter.com/SkrzyniarzIrena/status/1462835731613769738/photo/1', 'https://twitter.com/PISM_Poland/status/1462801304657567753/photo/1', 'https://twitter.com/mic_marek/status/1463471205625872389/photo/1', 'https://twitter.com/LechGalik/status/1463441670637297665/photo/1', 'https://twitter.com/Sz_Wisniewski/status/1463180509043994635/photo/1', 'https://twitter.com/adinfo24/status/1462496134409199620/photo/1', 'https://twitter.com/kropka_hu/status/1461700883432022025/photo/1', 'https://twitter.com/Jan34733995/status/1463089996534013953/photo/1', 'https://twitter.com/Likeup202/status/1461237349573185540/photo/1', 'https://twitter.com/RafalDlaPolski5/status/1463063406337011719/photo/1', 'https://twitter.com/NewsweekPolska/status/1463498150497296388/photo/1', 'https://twitter.com/trojmorze_pl/status/1463117824419848192/photo/1', 'https://twitter.com/JedziemyDalej/status/1462476037401497610/photo/1', 'https://twitter.com/mic_marek/status/1461792841873637376/video/1', 'https://twitter.com/MateuszPerek/status/1462095169122091010/photo/1', 'https://twitter.com/BIPolska/status/1463100279373504525/photo/1', 'https://twitter.com/TakTygodnik/status/1462160680778403842/photo/1', 'https://twitter.com/mic_marek/status/1463536171632500752/photo/1', 'https://twitter.com/MinstrelTheSane/status/1463550740509736963/photo/1', 'https://twitter.com/tadekzd/status/1463515747276132359/video/1', 'https://twitter.com/mic_marek/status/1462749067189133314/photo/1', 'https://twitter.com/TechnologieWP/status/1463602309565407234/photo/1', 'https://twitter.com/PL_2050/status/1462823320290799621/photo/1', 'https://twitter.com/60wadera/status/1461739102626320395/photo/1', 'https://twitter.com/ZaZdzislaw/status/1461734346721800201/photo/1', 'https://twitter.com/horyzont_z/status/1462822755724931081/photo/1', 'https://twitter.com/PISM_Poland/status/1461691967562264587/photo/1', 'https://twitter.com/JudgesSsp/status/1463648039600640004/photo/1', 'https://twitter.com/adinfo24/status/1461574986301415427/photo/1', 'https://twitter.com/TechnologieWP/status/1461352407800053769/photo/1', 'https://twitter.com/FundacjaWEI/status/1461319108176322569/photo/1', 'https://twitter.com/RuchNarodowy/status/1463492600493576196/photo/1']\n"
          ]
        }
      ]
    },
    {
      "cell_type": "code",
      "source": [
        "def find_urls(text):\n",
        "    return re.findall(r\"https?://\\S+\", str(text))\n",
        "\n",
        "df[\"urls\"] = df[\"text\"].apply(find_urls)\n",
        "print(df[[\"urls\"]])"
      ],
      "metadata": {
        "colab": {
          "base_uri": "https://localhost:8080/"
        },
        "id": "CYDh4dC_1mX1",
        "outputId": "5cc19e16-f020-47ab-f3d3-99929c35cca9"
      },
      "execution_count": 7,
      "outputs": [
        {
          "output_type": "stream",
          "name": "stdout",
          "text": [
            "                                                    urls\n",
            "0                              [https://t.co/AOSWdj0Qqi]\n",
            "1                                                     []\n",
            "2                              [https://t.co/AOSWdj0Qqi]\n",
            "3                              [https://t.co/1C0vkFuyPm]\n",
            "4      [https://t.co/wEaRenIveL, https://t.co/6SfNANg...\n",
            "...                                                  ...\n",
            "10026                                                 []\n",
            "10027                                                 []\n",
            "10028                          [https://t.co/h83avChq83]\n",
            "10029                                                 []\n",
            "10030                                                 []\n",
            "\n",
            "[10031 rows x 1 columns]\n"
          ]
        }
      ]
    },
    {
      "cell_type": "code",
      "source": [
        "def find_media(text):\n",
        "    return re.findall(r\"https?://[^\\s]+?\\.(?:jpg|jpeg|png|gif)\", str(text))\n",
        "\n",
        "df[\"media\"] = df[\"text\"].apply(find_media)\n",
        "print(df[[\"media\"]])"
      ],
      "metadata": {
        "colab": {
          "base_uri": "https://localhost:8080/"
        },
        "id": "8PF7GNY714xn",
        "outputId": "3119183b-63e3-46fe-bd27-b41877d5fd44"
      },
      "execution_count": 8,
      "outputs": [
        {
          "output_type": "stream",
          "name": "stdout",
          "text": [
            "      media\n",
            "0        []\n",
            "1        []\n",
            "2        []\n",
            "3        []\n",
            "4        []\n",
            "...     ...\n",
            "10026    []\n",
            "10027    []\n",
            "10028    []\n",
            "10029    []\n",
            "10030    []\n",
            "\n",
            "[10031 rows x 1 columns]\n"
          ]
        }
      ]
    },
    {
      "cell_type": "code",
      "source": [
        "!python -m spacy download pl_core_news_lg"
      ],
      "metadata": {
        "colab": {
          "base_uri": "https://localhost:8080/"
        },
        "collapsed": true,
        "id": "jjLUBdjG1_c5",
        "outputId": "7e277ba3-b7f6-4c3f-93a4-0379b5432718"
      },
      "execution_count": 9,
      "outputs": [
        {
          "output_type": "stream",
          "name": "stdout",
          "text": [
            "Collecting pl-core-news-lg==3.7.0\n",
            "  Downloading https://github.com/explosion/spacy-models/releases/download/pl_core_news_lg-3.7.0/pl_core_news_lg-3.7.0-py3-none-any.whl (573.7 MB)\n",
            "\u001b[2K     \u001b[90m━━━━━━━━━━━━━━━━━━━━━━━━━━━━━━━━━━━━━━━━\u001b[0m \u001b[32m573.7/573.7 MB\u001b[0m \u001b[31m1.2 MB/s\u001b[0m eta \u001b[36m0:00:00\u001b[0m\n",
            "\u001b[?25hRequirement already satisfied: spacy<3.8.0,>=3.7.0 in /usr/local/lib/python3.11/dist-packages (from pl-core-news-lg==3.7.0) (3.7.5)\n",
            "Requirement already satisfied: spacy-legacy<3.1.0,>=3.0.11 in /usr/local/lib/python3.11/dist-packages (from spacy<3.8.0,>=3.7.0->pl-core-news-lg==3.7.0) (3.0.12)\n",
            "Requirement already satisfied: spacy-loggers<2.0.0,>=1.0.0 in /usr/local/lib/python3.11/dist-packages (from spacy<3.8.0,>=3.7.0->pl-core-news-lg==3.7.0) (1.0.5)\n",
            "Requirement already satisfied: murmurhash<1.1.0,>=0.28.0 in /usr/local/lib/python3.11/dist-packages (from spacy<3.8.0,>=3.7.0->pl-core-news-lg==3.7.0) (1.0.12)\n",
            "Requirement already satisfied: cymem<2.1.0,>=2.0.2 in /usr/local/lib/python3.11/dist-packages (from spacy<3.8.0,>=3.7.0->pl-core-news-lg==3.7.0) (2.0.11)\n",
            "Requirement already satisfied: preshed<3.1.0,>=3.0.2 in /usr/local/lib/python3.11/dist-packages (from spacy<3.8.0,>=3.7.0->pl-core-news-lg==3.7.0) (3.0.9)\n",
            "Requirement already satisfied: thinc<8.3.0,>=8.2.2 in /usr/local/lib/python3.11/dist-packages (from spacy<3.8.0,>=3.7.0->pl-core-news-lg==3.7.0) (8.2.5)\n",
            "Requirement already satisfied: wasabi<1.2.0,>=0.9.1 in /usr/local/lib/python3.11/dist-packages (from spacy<3.8.0,>=3.7.0->pl-core-news-lg==3.7.0) (1.1.3)\n",
            "Requirement already satisfied: srsly<3.0.0,>=2.4.3 in /usr/local/lib/python3.11/dist-packages (from spacy<3.8.0,>=3.7.0->pl-core-news-lg==3.7.0) (2.5.1)\n",
            "Requirement already satisfied: catalogue<2.1.0,>=2.0.6 in /usr/local/lib/python3.11/dist-packages (from spacy<3.8.0,>=3.7.0->pl-core-news-lg==3.7.0) (2.0.10)\n",
            "Requirement already satisfied: weasel<0.5.0,>=0.1.0 in /usr/local/lib/python3.11/dist-packages (from spacy<3.8.0,>=3.7.0->pl-core-news-lg==3.7.0) (0.4.1)\n",
            "Requirement already satisfied: typer<1.0.0,>=0.3.0 in /usr/local/lib/python3.11/dist-packages (from spacy<3.8.0,>=3.7.0->pl-core-news-lg==3.7.0) (0.15.1)\n",
            "Requirement already satisfied: tqdm<5.0.0,>=4.38.0 in /usr/local/lib/python3.11/dist-packages (from spacy<3.8.0,>=3.7.0->pl-core-news-lg==3.7.0) (4.67.1)\n",
            "Requirement already satisfied: requests<3.0.0,>=2.13.0 in /usr/local/lib/python3.11/dist-packages (from spacy<3.8.0,>=3.7.0->pl-core-news-lg==3.7.0) (2.32.3)\n",
            "Requirement already satisfied: pydantic!=1.8,!=1.8.1,<3.0.0,>=1.7.4 in /usr/local/lib/python3.11/dist-packages (from spacy<3.8.0,>=3.7.0->pl-core-news-lg==3.7.0) (2.10.6)\n",
            "Requirement already satisfied: jinja2 in /usr/local/lib/python3.11/dist-packages (from spacy<3.8.0,>=3.7.0->pl-core-news-lg==3.7.0) (3.1.5)\n",
            "Requirement already satisfied: setuptools in /usr/local/lib/python3.11/dist-packages (from spacy<3.8.0,>=3.7.0->pl-core-news-lg==3.7.0) (75.1.0)\n",
            "Requirement already satisfied: packaging>=20.0 in /usr/local/lib/python3.11/dist-packages (from spacy<3.8.0,>=3.7.0->pl-core-news-lg==3.7.0) (24.2)\n",
            "Requirement already satisfied: langcodes<4.0.0,>=3.2.0 in /usr/local/lib/python3.11/dist-packages (from spacy<3.8.0,>=3.7.0->pl-core-news-lg==3.7.0) (3.5.0)\n",
            "Requirement already satisfied: numpy>=1.19.0 in /usr/local/lib/python3.11/dist-packages (from spacy<3.8.0,>=3.7.0->pl-core-news-lg==3.7.0) (1.26.4)\n",
            "Requirement already satisfied: language-data>=1.2 in /usr/local/lib/python3.11/dist-packages (from langcodes<4.0.0,>=3.2.0->spacy<3.8.0,>=3.7.0->pl-core-news-lg==3.7.0) (1.3.0)\n",
            "Requirement already satisfied: annotated-types>=0.6.0 in /usr/local/lib/python3.11/dist-packages (from pydantic!=1.8,!=1.8.1,<3.0.0,>=1.7.4->spacy<3.8.0,>=3.7.0->pl-core-news-lg==3.7.0) (0.7.0)\n",
            "Requirement already satisfied: pydantic-core==2.27.2 in /usr/local/lib/python3.11/dist-packages (from pydantic!=1.8,!=1.8.1,<3.0.0,>=1.7.4->spacy<3.8.0,>=3.7.0->pl-core-news-lg==3.7.0) (2.27.2)\n",
            "Requirement already satisfied: typing-extensions>=4.12.2 in /usr/local/lib/python3.11/dist-packages (from pydantic!=1.8,!=1.8.1,<3.0.0,>=1.7.4->spacy<3.8.0,>=3.7.0->pl-core-news-lg==3.7.0) (4.12.2)\n",
            "Requirement already satisfied: charset-normalizer<4,>=2 in /usr/local/lib/python3.11/dist-packages (from requests<3.0.0,>=2.13.0->spacy<3.8.0,>=3.7.0->pl-core-news-lg==3.7.0) (3.4.1)\n",
            "Requirement already satisfied: idna<4,>=2.5 in /usr/local/lib/python3.11/dist-packages (from requests<3.0.0,>=2.13.0->spacy<3.8.0,>=3.7.0->pl-core-news-lg==3.7.0) (3.10)\n",
            "Requirement already satisfied: urllib3<3,>=1.21.1 in /usr/local/lib/python3.11/dist-packages (from requests<3.0.0,>=2.13.0->spacy<3.8.0,>=3.7.0->pl-core-news-lg==3.7.0) (2.3.0)\n",
            "Requirement already satisfied: certifi>=2017.4.17 in /usr/local/lib/python3.11/dist-packages (from requests<3.0.0,>=2.13.0->spacy<3.8.0,>=3.7.0->pl-core-news-lg==3.7.0) (2024.12.14)\n",
            "Requirement already satisfied: blis<0.8.0,>=0.7.8 in /usr/local/lib/python3.11/dist-packages (from thinc<8.3.0,>=8.2.2->spacy<3.8.0,>=3.7.0->pl-core-news-lg==3.7.0) (0.7.11)\n",
            "Requirement already satisfied: confection<1.0.0,>=0.0.1 in /usr/local/lib/python3.11/dist-packages (from thinc<8.3.0,>=8.2.2->spacy<3.8.0,>=3.7.0->pl-core-news-lg==3.7.0) (0.1.5)\n",
            "Requirement already satisfied: click>=8.0.0 in /usr/local/lib/python3.11/dist-packages (from typer<1.0.0,>=0.3.0->spacy<3.8.0,>=3.7.0->pl-core-news-lg==3.7.0) (8.1.8)\n",
            "Requirement already satisfied: shellingham>=1.3.0 in /usr/local/lib/python3.11/dist-packages (from typer<1.0.0,>=0.3.0->spacy<3.8.0,>=3.7.0->pl-core-news-lg==3.7.0) (1.5.4)\n",
            "Requirement already satisfied: rich>=10.11.0 in /usr/local/lib/python3.11/dist-packages (from typer<1.0.0,>=0.3.0->spacy<3.8.0,>=3.7.0->pl-core-news-lg==3.7.0) (13.9.4)\n",
            "Requirement already satisfied: cloudpathlib<1.0.0,>=0.7.0 in /usr/local/lib/python3.11/dist-packages (from weasel<0.5.0,>=0.1.0->spacy<3.8.0,>=3.7.0->pl-core-news-lg==3.7.0) (0.20.0)\n",
            "Requirement already satisfied: smart-open<8.0.0,>=5.2.1 in /usr/local/lib/python3.11/dist-packages (from weasel<0.5.0,>=0.1.0->spacy<3.8.0,>=3.7.0->pl-core-news-lg==3.7.0) (7.1.0)\n",
            "Requirement already satisfied: MarkupSafe>=2.0 in /usr/local/lib/python3.11/dist-packages (from jinja2->spacy<3.8.0,>=3.7.0->pl-core-news-lg==3.7.0) (3.0.2)\n",
            "Requirement already satisfied: marisa-trie>=1.1.0 in /usr/local/lib/python3.11/dist-packages (from language-data>=1.2->langcodes<4.0.0,>=3.2.0->spacy<3.8.0,>=3.7.0->pl-core-news-lg==3.7.0) (1.2.1)\n",
            "Requirement already satisfied: markdown-it-py>=2.2.0 in /usr/local/lib/python3.11/dist-packages (from rich>=10.11.0->typer<1.0.0,>=0.3.0->spacy<3.8.0,>=3.7.0->pl-core-news-lg==3.7.0) (3.0.0)\n",
            "Requirement already satisfied: pygments<3.0.0,>=2.13.0 in /usr/local/lib/python3.11/dist-packages (from rich>=10.11.0->typer<1.0.0,>=0.3.0->spacy<3.8.0,>=3.7.0->pl-core-news-lg==3.7.0) (2.18.0)\n",
            "Requirement already satisfied: wrapt in /usr/local/lib/python3.11/dist-packages (from smart-open<8.0.0,>=5.2.1->weasel<0.5.0,>=0.1.0->spacy<3.8.0,>=3.7.0->pl-core-news-lg==3.7.0) (1.17.2)\n",
            "Requirement already satisfied: mdurl~=0.1 in /usr/local/lib/python3.11/dist-packages (from markdown-it-py>=2.2.0->rich>=10.11.0->typer<1.0.0,>=0.3.0->spacy<3.8.0,>=3.7.0->pl-core-news-lg==3.7.0) (0.1.2)\n",
            "\u001b[38;5;2m✔ Download and installation successful\u001b[0m\n",
            "You can now load the package via spacy.load('pl_core_news_lg')\n",
            "\u001b[38;5;3m⚠ Restart to reload dependencies\u001b[0m\n",
            "If you are in a Jupyter or Colab notebook, you may need to restart Python in\n",
            "order to load all the package's dependencies. You can do this by selecting the\n",
            "'Restart kernel' or 'Restart runtime' option.\n"
          ]
        }
      ]
    },
    {
      "cell_type": "code",
      "source": [
        "nlp = spacy.load(\"pl_core_news_lg\")"
      ],
      "metadata": {
        "id": "im2GMpab4k-l"
      },
      "execution_count": 10,
      "outputs": []
    },
    {
      "cell_type": "code",
      "source": [
        "def remove_stopwords(text):\n",
        "    doc = nlp(text)\n",
        "    filtered_tokens = [token.text for token in doc if not token.is_stop]\n",
        "    return \" \".join(filtered_tokens)\n",
        "\n",
        "df[\"text_without_stopwords\"] = df[\"text\"].apply(remove_stopwords)\n",
        "print(df[\"text_without_stopwords\"])"
      ],
      "metadata": {
        "colab": {
          "base_uri": "https://localhost:8080/"
        },
        "id": "adYAIcua2wSc",
        "outputId": "4c7b85f6-a662-42cb-a01f-d846db86c599"
      },
      "execution_count": 11,
      "outputs": [
        {
          "output_type": "stream",
          "name": "stdout",
          "text": [
            "0                Polska robi Rosja https://t.co/AOSWdj0Qqi\n",
            "1        1 . Dotychczas Rosja rościła prawo wybiórczego...\n",
            "2                Polska robi Rosja https://t.co/AOSWdj0Qqi\n",
            "3        jaka niespodzianka . Ramzan Kadyrow Szef Repub...\n",
            "4        GROŹNA ROSJA BIAŁORUŚ ? - Ukraina niebezpiecze...\n",
            "                               ...                        \n",
            "10026    @Kozlik_4 @Urbus _ @LaczyNasPilka Wystawiasz g...\n",
            "10027    @RBakiewicz Niemcy , Wschód , Rosja , Białoruś...\n",
            "10028    .@BartosiakJacek mówi Korwinem @JkmMikke \\n \" ...\n",
            "10029    Rosją inwestować dezinformacje . BBC , CNN par...\n",
            "10030    @EberhardtCeline @TheRepublicDe Rosja szantażu...\n",
            "Name: text_without_stopwords, Length: 10031, dtype: object\n"
          ]
        }
      ]
    },
    {
      "cell_type": "code",
      "source": [
        "print(df.columns.tolist())"
      ],
      "metadata": {
        "colab": {
          "base_uri": "https://localhost:8080/"
        },
        "id": "af-Il__B7nNo",
        "outputId": "4f191558-7570-469f-891d-40a3de6d8587"
      },
      "execution_count": 19,
      "outputs": [
        {
          "output_type": "stream",
          "name": "stdout",
          "text": [
            "['coordinates', 'created_at', 'hashtags', 'media', 'urls', 'favorite_count', 'id', 'in_reply_to_screen_name', 'in_reply_to_status_id', 'in_reply_to_user_id', 'lang', 'place', 'possibly_sensitive', 'quote_id', 'retweet_count', 'retweet_id', 'retweet_screen_name', 'source', 'text', 'tweet_url', 'user_created_at', 'user_id', 'user_default_profile_image', 'user_description', 'user_favourites_count', 'user_followers_count', 'user_friends_count', 'user_listed_count', 'user_location', 'user_name', 'user_screen_name', 'user_statuses_count', 'user_time_zone', 'user_urls', 'user_verified', 'text_without_stopwords', 'day_of_week']\n"
          ]
        }
      ]
    },
    {
      "cell_type": "code",
      "source": [
        "print(\"Top 5 tweetów z największą liczbą polubień:\")\n",
        "print(df.nlargest(5, \"favorite_count\")[[\"text\", \"favorite_count\"]])"
      ],
      "metadata": {
        "colab": {
          "base_uri": "https://localhost:8080/"
        },
        "id": "LX1mkZmK27DY",
        "outputId": "69adacf2-44e7-48d8-edd8-21932c5934b9"
      },
      "execution_count": 12,
      "outputs": [
        {
          "output_type": "stream",
          "name": "stdout",
          "text": [
            "Top 5 tweetów z największą liczbą polubień:\n",
            "                                                   text  favorite_count\n",
            "400   Polska robi tak jak Rosja https://t.co/AOSWdj0Qqi            1527\n",
            "5714  Uruchomienie Baltic Pipe w paźdz. 2022 w pełni...            1359\n",
            "6455  Ukraiński wywiad (via Military Times) podaje, ...            1108\n",
            "749   1.Dotychczas tylko Rosja rościła sobie prawo d...            1035\n",
            "5539  Prosty komunikat\\n\\nW odpowiedzi na ataki/naru...             954\n"
          ]
        }
      ]
    },
    {
      "cell_type": "code",
      "source": [
        "print(\"Top 5 tweetów z największą liczbą retweetów:\")\n",
        "print(df.nlargest(5, \"retweet_count\")[[\"text\", \"retweet_count\"]])"
      ],
      "metadata": {
        "colab": {
          "base_uri": "https://localhost:8080/"
        },
        "id": "oZacbU2L27vk",
        "outputId": "496be1b6-c601-402f-c9c3-e6ac4b6e18cf"
      },
      "execution_count": 13,
      "outputs": [
        {
          "output_type": "stream",
          "name": "stdout",
          "text": [
            "Top 5 tweetów z największą liczbą retweetów:\n",
            "                                                   text  retweet_count\n",
            "1279  Niemcy i Francja negocjują z Rosją i Białorusi...            797\n",
            "1280  Niemcy i Francja negocjują z Rosją i Białorusi...            797\n",
            "1363  Niemcy i Francja negocjują z Rosją i Białorusi...            797\n",
            "1385  Niemcy i Francja negocjują z Rosją i Białorusi...            797\n",
            "1399  Niemcy i Francja negocjują z Rosją i Białorusi...            797\n"
          ]
        }
      ]
    },
    {
      "cell_type": "code",
      "source": [
        "print(\"Tweety, które nie są uznane za wrażliwe:\")\n",
        "print(df[df[\"possibly_sensitive\"] != True][\"text\"])"
      ],
      "metadata": {
        "colab": {
          "base_uri": "https://localhost:8080/"
        },
        "id": "e_6OpB6i3ANI",
        "outputId": "35e117ae-26f5-4f2b-da83-9a33e721b9d1"
      },
      "execution_count": 14,
      "outputs": [
        {
          "output_type": "stream",
          "name": "stdout",
          "text": [
            "Tweety, które nie są uznane za wrażliwe:\n",
            "0        Polska robi tak jak Rosja https://t.co/AOSWdj0Qqi\n",
            "1        1.Dotychczas tylko Rosja rościła sobie prawo d...\n",
            "2        Polska robi tak jak Rosja https://t.co/AOSWdj0Qqi\n",
            "3        A tu jaka niespodzianka. Ramzan Kadyrow Szef R...\n",
            "4        Jak GROŹNA jest ROSJA i BIAŁORUŚ? - Ukraina w ...\n",
            "                               ...                        \n",
            "10026    @Kozlik_4 @Urbus_ @LaczyNasPilka Wystawiasz go...\n",
            "10027    @RBakiewicz nie Niemcy, a cały Wschód, Rosja, ...\n",
            "10028    .@BartosiakJacek mówi Korwinem @JkmMikke \\n\"Is...\n",
            "10029    Rosją już nie musi inwestować w dezinformacje....\n",
            "10030    @EberhardtCeline @TheRepublicDe Rosja szantażu...\n",
            "Name: text, Length: 9954, dtype: object\n"
          ]
        }
      ]
    },
    {
      "cell_type": "code",
      "source": [
        "earliest_account = df.loc[df[\"user_created_at\"].idxmin()]\n",
        "print(\"Tweety użytkownika, który założył konto najwcześniej:\")\n",
        "print(df[df[\"user_id\"] == earliest_account[\"user_id\"]][\"text\"])"
      ],
      "metadata": {
        "colab": {
          "base_uri": "https://localhost:8080/"
        },
        "id": "wtb-FUoO7VtZ",
        "outputId": "45fe0827-5143-4831-8048-6512b17f12d0"
      },
      "execution_count": 18,
      "outputs": [
        {
          "output_type": "stream",
          "name": "stdout",
          "text": [
            "Tweety użytkownika, który założył konto najwcześniej:\n",
            "5156    Czyli jesteśmy w momencie, gdzie Rosja sobie n...\n",
            "8329    Międzynarodowy skandal: Rosja opublikowała pou...\n",
            "Name: text, dtype: object\n"
          ]
        }
      ]
    },
    {
      "cell_type": "code",
      "source": [
        "most_followers = df.loc[df[\"user_followers_count\"].idxmax()]\n",
        "print(\"Tweety użytkownika, który ma najwięcej followersów:\")\n",
        "print(df[df[\"user_id\"] == most_followers[\"user_id\"]][\"text\"])"
      ],
      "metadata": {
        "colab": {
          "base_uri": "https://localhost:8080/"
        },
        "id": "9qDhnqG57rsq",
        "outputId": "b6425c20-eacf-4550-dd2a-99d3b731e0c8"
      },
      "execution_count": 20,
      "outputs": [
        {
          "output_type": "stream",
          "name": "stdout",
          "text": [
            "Tweety użytkownika, który ma najwięcej followersów:\n",
            "1252    Rosyjski lodołamacz o napędzie atomowym Arktyk...\n",
            "1579    Minister obrony Rosji przekazał, że w listopad...\n",
            "2725    Ukraiński wywiad poinformował o zwiększonej go...\n",
            "2792    Moskiewski Sąd Miejski odroczył do 29 listopad...\n",
            "4335    Rosja zaostrza sytuację bezpieczeństwa, by pod...\n",
            "6286    Oczekujemy realnego wsparcia ze strony Stanów ...\n",
            "7122    \"Rosja nie zdecydowała jeszcze, co zamierza zr...\n",
            "8190    Jak prezydent Rosji Władimir Putin postanowił ...\n",
            "9698    1251 osób zmarło w Rosji w ciągu ostatniej dob...\n",
            "Name: text, dtype: object\n"
          ]
        }
      ]
    },
    {
      "cell_type": "code",
      "source": [
        "most_followers = df.loc[df[\"user_followers_count\"].idxmax()]\n",
        "print(\"Tweety użytkownika, który ma najwięcej followersów:\")\n",
        "print(df[df[\"user_id\"] == most_followers[\"user_id\"]][\"text\"])"
      ],
      "metadata": {
        "colab": {
          "base_uri": "https://localhost:8080/"
        },
        "id": "0Q7ghqny759N",
        "outputId": "fbee9146-cdeb-4373-b737-93e8d52bb3de"
      },
      "execution_count": 21,
      "outputs": [
        {
          "output_type": "stream",
          "name": "stdout",
          "text": [
            "Tweety użytkownika, który ma najwięcej followersów:\n",
            "1252    Rosyjski lodołamacz o napędzie atomowym Arktyk...\n",
            "1579    Minister obrony Rosji przekazał, że w listopad...\n",
            "2725    Ukraiński wywiad poinformował o zwiększonej go...\n",
            "2792    Moskiewski Sąd Miejski odroczył do 29 listopad...\n",
            "4335    Rosja zaostrza sytuację bezpieczeństwa, by pod...\n",
            "6286    Oczekujemy realnego wsparcia ze strony Stanów ...\n",
            "7122    \"Rosja nie zdecydowała jeszcze, co zamierza zr...\n",
            "8190    Jak prezydent Rosji Władimir Putin postanowił ...\n",
            "9698    1251 osób zmarło w Rosji w ciągu ostatniej dob...\n",
            "Name: text, dtype: object\n"
          ]
        }
      ]
    },
    {
      "cell_type": "code",
      "source": [
        "print(\"Tweety zweryfikowanych użytkowników:\")\n",
        "print(df[df[\"user_verified\"] == True][\"text\"])"
      ],
      "metadata": {
        "colab": {
          "base_uri": "https://localhost:8080/"
        },
        "id": "ZXXHHkWv8jw3",
        "outputId": "e5271d40-da33-4b4a-ed07-6510b8c01c87"
      },
      "execution_count": 39,
      "outputs": [
        {
          "output_type": "stream",
          "name": "stdout",
          "text": [
            "Tweety zweryfikowanych użytkowników:\n",
            "50       Jakie kroki podejmują rosyjskie służby specjal...\n",
            "54       A tu jaka niespodzianka. Ramzan Kadyrow Szef R...\n",
            "68       Rosyjska armia gromadzi siły przy granicy z Uk...\n",
            "99       Polska robi tak jak Rosja https://t.co/AOSWdj0Qqi\n",
            "109      W środę z prezydentem #Rosja, Władimirem #Puti...\n",
            "                               ...                        \n",
            "9698     1251 osób zmarło w Rosji w ciągu ostatniej dob...\n",
            "9756     Rzeczniczka MSZ #Rosja: Podżegacze wojenni z #...\n",
            "9889     18 listopada 1875 roku Sokrates Starynkiewicz,...\n",
            "9960     Jak to: jakie interesy białoruskie narusza Nor...\n",
            "10015    PT Komentatorów BARDZO proszę: najpierw poczyt...\n",
            "Name: text, Length: 247, dtype: object\n"
          ]
        }
      ]
    },
    {
      "cell_type": "markdown",
      "source": [
        "for pl, eng in eng_day_format.items():\n",
        "    df['created_at'] = df['created_at'].str.replace(pl, eng)"
      ],
      "metadata": {
        "id": "_DAHN9Yh63Mp"
      }
    },
    {
      "cell_type": "code",
      "source": [
        "eng_day_format = {\"Poniedziałek\": \"Mon\", \"Wtorek\": \"Tue\", \"Środa\": \"Wed\", \"Czwartek\": \"Thu\", \"Piątek\": \"Fri\", \"Sobota\": \"Sat\", \"Niedziela\": \"Sun\"}"
      ],
      "metadata": {
        "id": "UJcRiyc4_V56"
      },
      "execution_count": 61,
      "outputs": []
    },
    {
      "cell_type": "code",
      "source": [
        "for pl, eng in eng_day_format.items():\n",
        "    df[\"created_at\"] = df[\"created_at\"].str.replace(pl, eng)\n",
        "\n",
        "df[\"created_at\"] = pd.to_datetime(df[\"created_at\"], format=\"%a %m %d %H:%M:%S +0000 %Y\", errors='coerce')\n",
        "df[\"day_of_week\"] = df[\"created_at\"].dt.dayofweek\n",
        "\n",
        "day_counts = df[\"day_of_week\"].value_counts().sort_index()\n",
        "days = [\"Poniedziałek\", \"Wtorek\", \"Środa\", \"Czwartek\", \"Piątek\", \"Sobota\", \"Niedziela\"]\n",
        "day_counts.index = [days[i] for i in day_counts.index]\n",
        "\n",
        "print(\"Liczba tweetów publikowanych w poszczególne dni tygodnia:\")\n",
        "print(day_counts)"
      ],
      "metadata": {
        "colab": {
          "base_uri": "https://localhost:8080/"
        },
        "id": "feDZBaOKBiw1",
        "outputId": "bbcdd161-fa9c-48d6-de47-5d9fa0586301"
      },
      "execution_count": 85,
      "outputs": [
        {
          "output_type": "stream",
          "name": "stdout",
          "text": [
            "Liczba tweetów publikowanych w poszczególne dni tygodnia:\n",
            "Poniedziałek    1434\n",
            "Wtorek          1656\n",
            "Środa           1594\n",
            "Czwartek        1465\n",
            "Piątek          1465\n",
            "Sobota           648\n",
            "Niedziela       1769\n",
            "Name: count, dtype: int64\n"
          ]
        }
      ]
    },
    {
      "cell_type": "code",
      "source": [
        "most_common_day = day_counts.idxmax()\n",
        "print(f\"\\nNajczęściej tweetowano w: {most_common_day}\")"
      ],
      "metadata": {
        "colab": {
          "base_uri": "https://localhost:8080/"
        },
        "id": "e81IgxHgB35z",
        "outputId": "080502c3-e24e-4ba4-e7a6-c2999a08b0a7"
      },
      "execution_count": 73,
      "outputs": [
        {
          "output_type": "stream",
          "name": "stdout",
          "text": [
            "\n",
            "Najczęściej tweetowano w: Niedziela\n"
          ]
        }
      ]
    },
    {
      "cell_type": "code",
      "source": [
        "def extract_entities(text):\n",
        "    doc = nlp(text)\n",
        "    persons = [ent.text for ent in doc.ents if ent.label_ == \"PERSON\"]\n",
        "    places = [ent.text for ent in doc.ents if ent.label_ in [\"GPE\", \"LOC\"]]\n",
        "    organizations = [ent.text for ent in doc.ents if ent.label_ == \"ORG\"]\n",
        "    return pd.Series([persons, places, organizations])\n",
        "\n",
        "df[[\"persons\", \"places\", \"organizations\"]] = df[\"text\"].apply(extract_entities)\n",
        "print(df[[\"persons\", \"places\", \"organizations\"]])"
      ],
      "metadata": {
        "colab": {
          "base_uri": "https://localhost:8080/"
        },
        "id": "_fTzePaY-b07",
        "outputId": "a82f949d-a69b-44a8-84e3-d711a471e075"
      },
      "execution_count": 81,
      "outputs": [
        {
          "output_type": "stream",
          "name": "stdout",
          "text": [
            "      persons places organizations\n",
            "0          []     []            []\n",
            "1          []     []            []\n",
            "2          []     []            []\n",
            "3          []     []            []\n",
            "4          []     []            []\n",
            "...       ...    ...           ...\n",
            "10026      []     []            []\n",
            "10027      []     []            []\n",
            "10028      []     []            []\n",
            "10029      []     []            []\n",
            "10030      []     []            []\n",
            "\n",
            "[10031 rows x 3 columns]\n"
          ]
        }
      ]
    },
    {
      "cell_type": "code",
      "source": [
        "plt.figure(figsize=(10, 6))\n",
        "plt.bar(day_counts.index, day_counts.values, color=\"blue\")\n",
        "plt.xlabel(\"Dzień tygodnia\")\n",
        "plt.ylabel(\"Liczba tweetów\")\n",
        "plt.title(\"Liczba tweetów per dzień tygodnia\")\n",
        "plt.xticks(rotation=45)\n",
        "plt.show()"
      ],
      "metadata": {
        "colab": {
          "base_uri": "https://localhost:8080/",
          "height": 622
        },
        "id": "f-Fkl8QW8x5d",
        "outputId": "61a82423-8302-4482-8452-9e3e8dc1c68d"
      },
      "execution_count": 80,
      "outputs": [
        {
          "output_type": "display_data",
          "data": {
            "text/plain": [
              "<Figure size 1000x600 with 1 Axes>"
            ],
            "image/png": "[encoded data removed]"
          },
          "metadata": {}
        }
      ]
    }
  ]
}